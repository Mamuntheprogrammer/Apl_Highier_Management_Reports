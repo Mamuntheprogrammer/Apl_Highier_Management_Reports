{
 "cells": [
  {
   "cell_type": "markdown",
   "id": "0986eff6",
   "metadata": {},
   "source": [
    "# Closing Reports For mangement"
   ]
  },
  {
   "cell_type": "code",
   "execution_count": 8,
   "id": "16f4a3b4",
   "metadata": {},
   "outputs": [],
   "source": [
    "import pandas as pd\n",
    "import datetime\n",
    "import time\n",
    "# pd.options.display.float_format = '{:,.2f}'.format\n",
    "\n",
    "\"\"\" Finding the Last Month \"\"\"\n",
    "\n",
    "now = datetime.datetime.now()\n",
    "last_month = now.month\n",
    "if now.month == 1:\n",
    "    last_year=now.year-1\n",
    "else:\n",
    "    last_year=now.year\n",
    "\n",
    "last=\"January February March April May June July August September Octobor November December\".split()[last_month-1]\n",
    "name = \"Employee Target vs Achievement \"+last+\" \" +str(last_year)+\".xlsx\"\n",
    "\n",
    "# Read the excel sheet to pandas dataframe\n",
    "df = pd.read_excel(\"one.xls\", sheet_name=0,converters={\"DIVISION\":str,})\n",
    "# df.head(5)\n",
    "\n",
    "\n",
    "\n",
    "\n"
   ]
  },
  {
   "cell_type": "markdown",
   "id": "ca63fef0",
   "metadata": {},
   "source": [
    "# Hasib vai Employee Target vs Achievement"
   ]
  },
  {
   "cell_type": "code",
   "execution_count": 9,
   "id": "bfdabad5",
   "metadata": {},
   "outputs": [],
   "source": [
    "# Hasib vai Employee Target vs Achievement\n",
    "\n",
    "hasib = df[[\"EMPP_CODE\",\"EMPP_NAME\",\"TERRITORY_CODE\",\"HIERARCHY_LVL\",\"DIVISION\",\"TARGET_AMOUNT\",\"NET_VALUE\",\"TARGET_ACHV\"]]\n",
    "hasib.head(2)\n",
    "\n",
    "writer = pd.ExcelWriter(str(name), engine='xlsxwriter') \n",
    "hasib.to_excel(writer, sheet_name='Sheet1',index=False)\n",
    "writer.save()\n",
    "\n"
   ]
  },
  {
   "cell_type": "markdown",
   "id": "acc18655",
   "metadata": {},
   "source": [
    "# Raw Master Data\n"
   ]
  },
  {
   "cell_type": "code",
   "execution_count": 10,
   "id": "0d181ef2",
   "metadata": {},
   "outputs": [
    {
     "name": "stderr",
     "output_type": "stream",
     "text": [
      "c:\\users\\aristo\\appdata\\local\\programs\\python\\python37\\lib\\site-packages\\ipykernel_launcher.py:3: SettingWithCopyWarning: \n",
      "A value is trying to be set on a copy of a slice from a DataFrame.\n",
      "Try using .loc[row_indexer,col_indexer] = value instead\n",
      "\n",
      "See the caveats in the documentation: https://pandas.pydata.org/pandas-docs/stable/user_guide/indexing.html#returning-a-view-versus-a-copy\n",
      "  This is separate from the ipykernel package so we can avoid doing imports until\n",
      "c:\\users\\aristo\\appdata\\local\\programs\\python\\python37\\lib\\site-packages\\ipykernel_launcher.py:4: SettingWithCopyWarning: \n",
      "A value is trying to be set on a copy of a slice from a DataFrame.\n",
      "Try using .loc[row_indexer,col_indexer] = value instead\n",
      "\n",
      "See the caveats in the documentation: https://pandas.pydata.org/pandas-docs/stable/user_guide/indexing.html#returning-a-view-versus-a-copy\n",
      "  after removing the cwd from sys.path.\n",
      "c:\\users\\aristo\\appdata\\local\\programs\\python\\python37\\lib\\site-packages\\ipykernel_launcher.py:5: SettingWithCopyWarning: \n",
      "A value is trying to be set on a copy of a slice from a DataFrame.\n",
      "Try using .loc[row_indexer,col_indexer] = value instead\n",
      "\n",
      "See the caveats in the documentation: https://pandas.pydata.org/pandas-docs/stable/user_guide/indexing.html#returning-a-view-versus-a-copy\n",
      "  \"\"\"\n"
     ]
    },
    {
     "name": "stdout",
     "output_type": "stream",
     "text": [
      "Total ZMIO with vacant Employe : 2781\n",
      "Total ZMIO Without Employe : 2773\n"
     ]
    }
   ],
   "source": [
    "df2 = df[[\"EMPP_CODE\",\"EMPP_NAME\",\"TERRITORY_CODE\",\"DIVISION\",\"HIERARCHY_LVL\",\"TARGET_AMOUNT\",\"NET_VALUE\",\"TARGET_ACHV\"]]\n",
    "\n",
    "df2['TARGET_AMOUNT'] = df['TARGET_AMOUNT'].div(100000).round(decimals=3)\n",
    "df2['NET_VALUE'] = df['NET_VALUE'].div(100000).round(decimals=3)\n",
    "df2[\"TARGET_ACHV\"] = df2[\"TARGET_ACHV\"].round(3)\n",
    "\n",
    "print(\"Total ZMIO with vacant Employe : \"+ str(df2.shape[0]))\n",
    "\n",
    "if 'Plant' not in df2.columns:\n",
    "    df2.insert(2,'Plant',\"\")\n",
    "\n",
    "df3 = df2[~df2.EMPP_CODE.str.contains(\"VAC\")]\n",
    "\n",
    "\n",
    "writer = pd.ExcelWriter(\"Master_Data.xlsx\", engine='xlsxwriter') \n",
    "df3.to_excel(writer, sheet_name='Sheet1',index=False)\n",
    "writer.save()\n",
    "\n",
    "print(\"Total ZMIO Without Employe : \"+ str(df3.shape[0]))\n",
    "\n",
    "# df3.head(50)\n"
   ]
  },
  {
   "cell_type": "markdown",
   "id": "32b02eb7",
   "metadata": {},
   "source": [
    "# Shafiq Boss Clossing Raw Data"
   ]
  },
  {
   "cell_type": "code",
   "execution_count": 11,
   "id": "73ab9439",
   "metadata": {},
   "outputs": [
    {
     "name": "stdout",
     "output_type": "stream",
     "text": [
      "Total Row : 2772\n",
      "Total Mail count : 537\n"
     ]
    },
    {
     "name": "stderr",
     "output_type": "stream",
     "text": [
      "c:\\users\\aristo\\appdata\\local\\programs\\python\\python37\\lib\\site-packages\\ipykernel_launcher.py:24: SettingWithCopyWarning: \n",
      "A value is trying to be set on a copy of a slice from a DataFrame.\n",
      "Try using .loc[row_indexer,col_indexer] = value instead\n",
      "\n",
      "See the caveats in the documentation: https://pandas.pydata.org/pandas-docs/stable/user_guide/indexing.html#returning-a-view-versus-a-copy\n"
     ]
    }
   ],
   "source": [
    "# Shafiq Boss Data format\n",
    "\n",
    "\n",
    "# df2 = df[[\"EMPP_CODE\",\"EMPP_NAME\",\"TERRITORY_CODE\",\"DIVISION\",\"HIERARCHY_LVL\",\"TARGET_AMOUNT\",\"NET_VALUE\",\"TARGET_ACHV\"]]\n",
    "\n",
    "# df2['TARGET_AMOUNT'] = df['TARGET_AMOUNT'].div(100000).round(2)\n",
    "# df2['NET_VALUE'] = df['TARGET_AMOUNT'].div(100000).round(2)\n",
    "\n",
    "# print(\"Total ZMIO Employe : \"+ str(df2.shape[0]))\n",
    "\n",
    "\n",
    "division = [\"01\",\"02\",\"04\"]\n",
    "Hieararchy = [2,3,4,5,6,7,8,9,10]\n",
    "\n",
    "Boss_df = df3[df3.EMPP_CODE != \"EM00702459\"]\n",
    "\n",
    "Boss_df2 = Boss_df[Boss_df['DIVISION'].isin(division) & Boss_df['HIERARCHY_LVL'].isin(Hieararchy)]\n",
    "\n",
    "\n",
    "print(\"Total Row : \" + str(Boss_df.shape[0]))\n",
    "\n",
    "print(\"Total Mail count : \" + str(Boss_df2.shape[0]))\n",
    "\n",
    "Boss_df2[\"TARGET_ACHV\"] = Boss_df2[\"TARGET_ACHV\"].round(2)\n",
    "\n",
    "writer = pd.ExcelWriter(\"Boss_Raw_Data.xlsx\", engine='xlsxwriter') \n",
    "Boss_df2.to_excel(writer, sheet_name='Sheet1',index=False)\n",
    "writer.save()\n",
    "\n",
    "# Boss_df2.head(150)\n",
    "\n",
    "\n",
    "\n"
   ]
  },
  {
   "cell_type": "markdown",
   "id": "f7d5b493",
   "metadata": {},
   "source": [
    "# 100% AND 5 LAC 6 REPORTS"
   ]
  },
  {
   "cell_type": "code",
   "execution_count": 12,
   "id": "a1eb9ce7",
   "metadata": {},
   "outputs": [
    {
     "name": "stdout",
     "output_type": "stream",
     "text": [
      "PHARMA MIO-SMIO WITH 100 AND ABOVE ACHIEVEMENT  952\n",
      "PHARMA AM-SAM WITH 100 AND ABOVE ACHIEVEMENT  174\n",
      "Pharma 5 LAC AND ABOVE SALES MIO-SMIO  1068\n"
     ]
    },
    {
     "ename": "PermissionError",
     "evalue": "[Errno 13] Permission denied: 'pharma\\\\Pharma 5 LAC AND ABOVE SALES MIO-SMIO.xlsx'",
     "output_type": "error",
     "traceback": [
      "\u001b[1;31m---------------------------------------------------------------------------\u001b[0m",
      "\u001b[1;31mPermissionError\u001b[0m                           Traceback (most recent call last)",
      "\u001b[1;32m~\\AppData\\Local\\Temp/ipykernel_10248/36956660.py\u001b[0m in \u001b[0;36m<module>\u001b[1;34m\u001b[0m\n\u001b[0;32m     36\u001b[0m \u001b[0mprint\u001b[0m\u001b[1;33m(\u001b[0m\u001b[1;34m\"Pharma 5 LAC AND ABOVE SALES MIO-SMIO  \"\u001b[0m \u001b[1;33m+\u001b[0m \u001b[0mstr\u001b[0m\u001b[1;33m(\u001b[0m\u001b[0mPmio5above\u001b[0m\u001b[1;33m.\u001b[0m\u001b[0mshape\u001b[0m\u001b[1;33m[\u001b[0m\u001b[1;36m0\u001b[0m\u001b[1;33m]\u001b[0m\u001b[1;33m)\u001b[0m\u001b[1;33m)\u001b[0m\u001b[1;33m\u001b[0m\u001b[1;33m\u001b[0m\u001b[0m\n\u001b[0;32m     37\u001b[0m \u001b[1;33m\u001b[0m\u001b[0m\n\u001b[1;32m---> 38\u001b[1;33m \u001b[0mwriter\u001b[0m \u001b[1;33m=\u001b[0m \u001b[0mpd\u001b[0m\u001b[1;33m.\u001b[0m\u001b[0mExcelWriter\u001b[0m\u001b[1;33m(\u001b[0m\u001b[1;34mr\"pharma\\Pharma 5 LAC AND ABOVE SALES MIO-SMIO.xlsx\"\u001b[0m\u001b[1;33m,\u001b[0m \u001b[0mengine\u001b[0m\u001b[1;33m=\u001b[0m\u001b[1;34m'xlsxwriter'\u001b[0m\u001b[1;33m)\u001b[0m\u001b[1;33m\u001b[0m\u001b[1;33m\u001b[0m\u001b[0m\n\u001b[0m\u001b[0;32m     39\u001b[0m \u001b[0mPmio5above\u001b[0m\u001b[1;33m.\u001b[0m\u001b[0mto_excel\u001b[0m\u001b[1;33m(\u001b[0m\u001b[0mwriter\u001b[0m\u001b[1;33m,\u001b[0m \u001b[0msheet_name\u001b[0m\u001b[1;33m=\u001b[0m\u001b[1;34m'Sheet1'\u001b[0m\u001b[1;33m,\u001b[0m\u001b[0mindex\u001b[0m\u001b[1;33m=\u001b[0m\u001b[1;32mFalse\u001b[0m\u001b[1;33m)\u001b[0m\u001b[1;33m\u001b[0m\u001b[1;33m\u001b[0m\u001b[0m\n\u001b[0;32m     40\u001b[0m \u001b[0mwriter\u001b[0m\u001b[1;33m.\u001b[0m\u001b[0msave\u001b[0m\u001b[1;33m(\u001b[0m\u001b[1;33m)\u001b[0m\u001b[1;33m\u001b[0m\u001b[1;33m\u001b[0m\u001b[0m\n",
      "\u001b[1;32mc:\\users\\aristo\\appdata\\local\\programs\\python\\python37\\lib\\site-packages\\pandas\\io\\excel\\_xlsxwriter.py\u001b[0m in \u001b[0;36m__init__\u001b[1;34m(self, path, engine, date_format, datetime_format, mode, storage_options, if_sheet_exists, engine_kwargs, **kwargs)\u001b[0m\n\u001b[0;32m    197\u001b[0m             \u001b[0mstorage_options\u001b[0m\u001b[1;33m=\u001b[0m\u001b[0mstorage_options\u001b[0m\u001b[1;33m,\u001b[0m\u001b[1;33m\u001b[0m\u001b[1;33m\u001b[0m\u001b[0m\n\u001b[0;32m    198\u001b[0m             \u001b[0mif_sheet_exists\u001b[0m\u001b[1;33m=\u001b[0m\u001b[0mif_sheet_exists\u001b[0m\u001b[1;33m,\u001b[0m\u001b[1;33m\u001b[0m\u001b[1;33m\u001b[0m\u001b[0m\n\u001b[1;32m--> 199\u001b[1;33m             \u001b[0mengine_kwargs\u001b[0m\u001b[1;33m=\u001b[0m\u001b[0mengine_kwargs\u001b[0m\u001b[1;33m,\u001b[0m\u001b[1;33m\u001b[0m\u001b[1;33m\u001b[0m\u001b[0m\n\u001b[0m\u001b[0;32m    200\u001b[0m         )\n\u001b[0;32m    201\u001b[0m \u001b[1;33m\u001b[0m\u001b[0m\n",
      "\u001b[1;32mc:\\users\\aristo\\appdata\\local\\programs\\python\\python37\\lib\\site-packages\\pandas\\io\\excel\\_base.py\u001b[0m in \u001b[0;36m__init__\u001b[1;34m(self, path, engine, date_format, datetime_format, mode, storage_options, if_sheet_exists, engine_kwargs, **kwargs)\u001b[0m\n\u001b[0;32m    924\u001b[0m         \u001b[1;32mif\u001b[0m \u001b[1;32mnot\u001b[0m \u001b[0misinstance\u001b[0m\u001b[1;33m(\u001b[0m\u001b[0mpath\u001b[0m\u001b[1;33m,\u001b[0m \u001b[0mExcelWriter\u001b[0m\u001b[1;33m)\u001b[0m\u001b[1;33m:\u001b[0m\u001b[1;33m\u001b[0m\u001b[1;33m\u001b[0m\u001b[0m\n\u001b[0;32m    925\u001b[0m             self.handles = get_handle(\n\u001b[1;32m--> 926\u001b[1;33m                 \u001b[0mpath\u001b[0m\u001b[1;33m,\u001b[0m \u001b[0mmode\u001b[0m\u001b[1;33m,\u001b[0m \u001b[0mstorage_options\u001b[0m\u001b[1;33m=\u001b[0m\u001b[0mstorage_options\u001b[0m\u001b[1;33m,\u001b[0m \u001b[0mis_text\u001b[0m\u001b[1;33m=\u001b[0m\u001b[1;32mFalse\u001b[0m\u001b[1;33m\u001b[0m\u001b[1;33m\u001b[0m\u001b[0m\n\u001b[0m\u001b[0;32m    927\u001b[0m             )\n\u001b[0;32m    928\u001b[0m         \u001b[0mself\u001b[0m\u001b[1;33m.\u001b[0m\u001b[0msheets\u001b[0m\u001b[1;33m:\u001b[0m \u001b[0mdict\u001b[0m\u001b[1;33m[\u001b[0m\u001b[0mstr\u001b[0m\u001b[1;33m,\u001b[0m \u001b[0mAny\u001b[0m\u001b[1;33m]\u001b[0m \u001b[1;33m=\u001b[0m \u001b[1;33m{\u001b[0m\u001b[1;33m}\u001b[0m\u001b[1;33m\u001b[0m\u001b[1;33m\u001b[0m\u001b[0m\n",
      "\u001b[1;32mc:\\users\\aristo\\appdata\\local\\programs\\python\\python37\\lib\\site-packages\\pandas\\io\\common.py\u001b[0m in \u001b[0;36mget_handle\u001b[1;34m(path_or_buf, mode, encoding, compression, memory_map, is_text, errors, storage_options)\u001b[0m\n\u001b[0;32m    708\u001b[0m         \u001b[1;32melse\u001b[0m\u001b[1;33m:\u001b[0m\u001b[1;33m\u001b[0m\u001b[1;33m\u001b[0m\u001b[0m\n\u001b[0;32m    709\u001b[0m             \u001b[1;31m# Binary mode\u001b[0m\u001b[1;33m\u001b[0m\u001b[1;33m\u001b[0m\u001b[1;33m\u001b[0m\u001b[0m\n\u001b[1;32m--> 710\u001b[1;33m             \u001b[0mhandle\u001b[0m \u001b[1;33m=\u001b[0m \u001b[0mopen\u001b[0m\u001b[1;33m(\u001b[0m\u001b[0mhandle\u001b[0m\u001b[1;33m,\u001b[0m \u001b[0mioargs\u001b[0m\u001b[1;33m.\u001b[0m\u001b[0mmode\u001b[0m\u001b[1;33m)\u001b[0m\u001b[1;33m\u001b[0m\u001b[1;33m\u001b[0m\u001b[0m\n\u001b[0m\u001b[0;32m    711\u001b[0m         \u001b[0mhandles\u001b[0m\u001b[1;33m.\u001b[0m\u001b[0mappend\u001b[0m\u001b[1;33m(\u001b[0m\u001b[0mhandle\u001b[0m\u001b[1;33m)\u001b[0m\u001b[1;33m\u001b[0m\u001b[1;33m\u001b[0m\u001b[0m\n\u001b[0;32m    712\u001b[0m \u001b[1;33m\u001b[0m\u001b[0m\n",
      "\u001b[1;31mPermissionError\u001b[0m: [Errno 13] Permission denied: 'pharma\\\\Pharma 5 LAC AND ABOVE SALES MIO-SMIO.xlsx'"
     ]
    }
   ],
   "source": [
    "\n",
    "\n",
    "\n",
    "\n",
    "\n",
    "\n",
    "#1-PHARMA MIO-SMIO WITH 100 AND ABOVE ACHIEVEMENT % FOR  AUG 2021\n",
    "\n",
    "Pmio100ABOVE = df3[(df3[\"DIVISION\"]==\"01\") & (df3[\"HIERARCHY_LVL\"]==1) &(df3[\"TARGET_ACHV\"]>=100)]\n",
    "\n",
    "\n",
    "\n",
    "# P100ABOVE.head(10)\n",
    "print(\"PHARMA MIO-SMIO WITH 100 AND ABOVE ACHIEVEMENT  \" + str(Pmio100ABOVE.shape[0]))\n",
    "\n",
    "writer = pd.ExcelWriter(r\"pharma\\PHARMA MIO-SMIO WITH 100 AND ABOVE ACHIEVEMENT.xlsx\", engine='xlsxwriter') \n",
    "Pmio100ABOVE.to_excel(writer, sheet_name='Sheet1',index=False)\n",
    "writer.save()\n",
    "\n",
    "#----------------------------------------------------------------------------------------------------------\n",
    "\n",
    "\n",
    "#2-PHARMA AM-SAM WITH 100 AND ABOVE ACHIEVEMENT % FOR AUG 2021\n",
    "Pam100ABOVE = df3[(df3[\"DIVISION\"]==\"01\") & (df3[\"HIERARCHY_LVL\"]==2) &(df3[\"TARGET_ACHV\"]>=100)]\n",
    "\n",
    "# Pam100ABOVE.head(10)\n",
    "print(\"PHARMA AM-SAM WITH 100 AND ABOVE ACHIEVEMENT  \" + str(Pam100ABOVE.shape[0]))\n",
    "\n",
    "writer = pd.ExcelWriter(r\"pharma\\PHARMA AM-SAM WITH 100 AND ABOVE ACHIEVEMENT.xlsx\", engine='xlsxwriter') \n",
    "Pam100ABOVE.to_excel(writer, sheet_name='Sheet1',index=False)\n",
    "writer.save()\n",
    "\n",
    "\n",
    "#----------------------------------------------------------------------------------------------------------\n",
    "\n",
    "\n",
    "#3-Pharma 5 LAC AND ABOVE SALES MIO-SMIO AUG 2021\n",
    "\n",
    "Pmio5above = df3[(df3[\"DIVISION\"]==\"01\") & (df3[\"HIERARCHY_LVL\"]==1) &(df3[\"NET_VALUE\"]>=5)]\n",
    "\n",
    "# Pmio5above.head(10)\n",
    "print(\"Pharma 5 LAC AND ABOVE SALES MIO-SMIO  \" + str(Pmio5above.shape[0]))\n",
    "\n",
    "writer = pd.ExcelWriter(r\"pharma\\Pharma 5 LAC AND ABOVE SALES MIO-SMIO.xlsx\", engine='xlsxwriter') \n",
    "Pmio5above.to_excel(writer, sheet_name='Sheet1',index=False)\n",
    "writer.save()\n",
    "\n",
    "#----------------------------------------------------------------------------------------------------------\n",
    "\n",
    "\n",
    "\n",
    "#1-AG MIO-SMIO WITH 100 AND ABOVE ACHIEVEMENT % FOR  AUG 2021\n",
    "\n",
    "Amio100ABOVE = df3[(df3[\"DIVISION\"]==\"02\") & (df3[\"HIERARCHY_LVL\"]==1) &(df3[\"TARGET_ACHV\"]>=100)]\n",
    "\n",
    "# Amio100ABOVE.head(10)\n",
    "print(\"AG MIO-SMIO WITH 100 AND ABOVE ACHIEVEMENT  \" + str(Amio100ABOVE.shape[0]))\n",
    "\n",
    "writer = pd.ExcelWriter(r\"ag\\AG MIO-SMIO WITH 100 AND ABOVE ACHIEVEMENT.xlsx\", engine='xlsxwriter') \n",
    "Amio100ABOVE.to_excel(writer, sheet_name='Sheet1',index=False)\n",
    "writer.save()\n",
    "\n",
    "#----------------------------------------------------------------------------------------------------------\n",
    "\n",
    "#2-AG AM-SAM WITH 100 AND ABOVE ACHIEVEMENT % FOR AUG 2021\n",
    "\n",
    "Aam100ABOVE = df3[(df3[\"DIVISION\"]==\"02\") & (df3[\"HIERARCHY_LVL\"]==2) &(df3[\"TARGET_ACHV\"]>=100)]\n",
    "\n",
    "# Aam100ABOVE.head(10)\n",
    "print(\"AG AM-SAM WITH 100 AND ABOVE ACHIEVEMENT  \" + str(Aam100ABOVE.shape[0]))\n",
    "\n",
    "writer = pd.ExcelWriter(r\"ag\\AG AM-SAM WITH 100 AND ABOVE ACHIEVEMENT.xlsx\", engine='xlsxwriter') \n",
    "Aam100ABOVE.to_excel(writer, sheet_name='Sheet1',index=False)\n",
    "writer.save()\n",
    "#----------------------------------------------------------------------------------------------------------\n",
    "\n",
    "\n",
    "#3-AG 5 LAC AND ABOVE SALES MIO-SMIO AUG 2021\n",
    "\n",
    "Amio5above = df3[(df3[\"DIVISION\"]==\"02\") & (df3[\"HIERARCHY_LVL\"]==1) &(df3[\"NET_VALUE\"]>=5)]\n",
    "\n",
    "# Amio5above.head(10)\n",
    "print(\"AG 5 LAC AND ABOVE SALES MIO-SMIO  \" + str(Amio5above.shape[0]))\n",
    "\n",
    "writer = pd.ExcelWriter(r\"ag\\AG 5 LAC AND ABOVE SALES MIO-SMIO.xlsx\", engine='xlsxwriter') \n",
    "Amio5above.to_excel(writer, sheet_name='Sheet1',index=False)\n",
    "writer.save()\n",
    "\n",
    "print(\"\")\n",
    "\n",
    "\n",
    "print(\"Total 100 % and above achiver (pharma+ag) : \" + str(Pmio100ABOVE.shape[0]+Pam100ABOVE.shape[0]+Amio100ABOVE.shape[0]+Aam100ABOVE.shape[0]))\n",
    "\n",
    "\n"
   ]
  },
  {
   "cell_type": "code",
   "execution_count": null,
   "id": "5cb687f0",
   "metadata": {},
   "outputs": [],
   "source": []
  }
 ],
 "metadata": {
  "kernelspec": {
   "display_name": "Python 3 (ipykernel)",
   "language": "python",
   "name": "python3"
  },
  "language_info": {
   "codemirror_mode": {
    "name": "ipython",
    "version": 3
   },
   "file_extension": ".py",
   "mimetype": "text/x-python",
   "name": "python",
   "nbconvert_exporter": "python",
   "pygments_lexer": "ipython3",
   "version": "3.7.9"
  }
 },
 "nbformat": 4,
 "nbformat_minor": 5
}
